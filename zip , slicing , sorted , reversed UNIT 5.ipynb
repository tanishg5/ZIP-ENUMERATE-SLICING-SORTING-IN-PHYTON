{
 "cells": [
  {
   "cell_type": "code",
   "execution_count": 2,
   "id": "921f03b4",
   "metadata": {},
   "outputs": [
    {
     "data": {
      "text/plain": [
       "[1, 4, 9, 16, 25]"
      ]
     },
     "execution_count": 2,
     "metadata": {},
     "output_type": "execute_result"
    }
   ],
   "source": [
    "a = [1,2,3,4,5]  # using append function in the list\n",
    "b = []\n",
    "for i in a:\n",
    "    b.append(i*i)\n",
    "b"
   ]
  },
  {
   "cell_type": "code",
   "execution_count": 3,
   "id": "17312b3a",
   "metadata": {},
   "outputs": [
    {
     "data": {
      "text/plain": [
       "[4, 9, 16, 25]"
      ]
     },
     "execution_count": 3,
     "metadata": {},
     "output_type": "execute_result"
    }
   ],
   "source": [
    "#slicing is used to extract a continous sequence of any object i.e array , string , tuple ,list etc.\n",
    "b[1:5]"
   ]
  },
  {
   "cell_type": "code",
   "execution_count": 4,
   "id": "ba91ff01",
   "metadata": {},
   "outputs": [
    {
     "data": {
      "text/plain": [
       "[1, 9, 25]"
      ]
     },
     "execution_count": 4,
     "metadata": {},
     "output_type": "execute_result"
    }
   ],
   "source": [
    "b[:5:2]"
   ]
  },
  {
   "cell_type": "code",
   "execution_count": 1,
   "id": "ba1dd1db",
   "metadata": {},
   "outputs": [],
   "source": [
    "a = [12,56,92,34,51,96,87] "
   ]
  },
  {
   "cell_type": "code",
   "execution_count": 6,
   "id": "7fb669ec",
   "metadata": {},
   "outputs": [
    {
     "name": "stdout",
     "output_type": "stream",
     "text": [
      "12\n",
      "56\n",
      "92\n",
      "34\n",
      "51\n",
      "96\n",
      "HIGHEST marks of a random student\n",
      "87\n"
     ]
    }
   ],
   "source": [
    "index = 0\n",
    "for i in a:\n",
    "    print(i)\n",
    "    if(i==96):\n",
    "         print(\"HIGHEST marks of a random student\")\n",
    "index = index + 1\n"
   ]
  },
  {
   "cell_type": "code",
   "execution_count": 7,
   "id": "c7be3f68",
   "metadata": {},
   "outputs": [
    {
     "name": "stdout",
     "output_type": "stream",
     "text": [
      "12\n",
      "56\n",
      "92\n",
      "34\n",
      "highest marks\n",
      "51\n",
      "96\n",
      "87\n"
     ]
    }
   ],
   "source": [
    "for index , i in enumerate(a):   #use of enumerate function in phyton\n",
    "    print(i)\n",
    "    if(index == 3):\n",
    "        print(\"highest marks\")"
   ]
  },
  {
   "cell_type": "code",
   "execution_count": 12,
   "id": "82d38462",
   "metadata": {},
   "outputs": [
    {
     "name": "stdout",
     "output_type": "stream",
     "text": [
      "0 12\n",
      "1 56\n",
      "2 92\n",
      "3 34\n",
      "4 51\n",
      "5 96\n",
      "6 87\n"
     ]
    }
   ],
   "source": [
    "for i,j in enumerate(a,start=0):\n",
    "    print(i,j)"
   ]
  },
  {
   "cell_type": "code",
   "execution_count": 13,
   "id": "fa678aac",
   "metadata": {},
   "outputs": [],
   "source": [
    "# enumerate function is a built in function in a phyton that allows you to loop over a sequence i.e array , strings etc and get the index and value of each element at the same time"
   ]
  },
  {
   "cell_type": "code",
   "execution_count": 14,
   "id": "a20efa04",
   "metadata": {},
   "outputs": [
    {
     "data": {
      "text/plain": [
       "[1, 2, 2, 3, 4, 5, 5, 6, 6, 13, 743]"
      ]
     },
     "execution_count": 14,
     "metadata": {},
     "output_type": "execute_result"
    }
   ],
   "source": [
    "seq = [1,4,6,3,2,5,6,2,13,5,743]   # sorted function is used to get a new sorted list but the original list reamins same remember\n",
    "sorted(seq)"
   ]
  },
  {
   "cell_type": "code",
   "execution_count": 16,
   "id": "7996004e",
   "metadata": {},
   "outputs": [
    {
     "data": {
      "text/plain": [
       "[1, 4, 6, 3, 2, 5, 6, 2, 13, 5, 743]"
      ]
     },
     "execution_count": 16,
     "metadata": {},
     "output_type": "execute_result"
    }
   ],
   "source": [
    "seq"
   ]
  },
  {
   "cell_type": "code",
   "execution_count": 21,
   "id": "ce4b32da",
   "metadata": {},
   "outputs": [
    {
     "name": "stdout",
     "output_type": "stream",
     "text": [
      "0 : ('def', 'mno', 'mno')\n",
      "1 : ('abc', 'pqr', 'pqr')\n",
      "2 : ('ghi', 'jkl', 'jkl')\n"
     ]
    }
   ],
   "source": [
    "#zip function is used to iterate over 2 or more lists using enumerate\n",
    "seq1 = ['def' ,'abc', 'ghi']\n",
    "seq2 = ['mno' ,'pqr', 'jkl']\n",
    "seq3 = ['mno' ,'pqr', 'jkl']\n",
    "for index , (i,j,k) in enumerate(zip(seq1,seq2,seq3)):\n",
    "    print (index , ':',(i,j,k))"
   ]
  },
  {
   "cell_type": "code",
   "execution_count": 22,
   "id": "05ffef9d",
   "metadata": {},
   "outputs": [],
   "source": [
    "#using zip method u can pair up the elements of the lists , tuples , sequences etc."
   ]
  },
  {
   "cell_type": "code",
   "execution_count": 23,
   "id": "bac4c115",
   "metadata": {},
   "outputs": [
    {
     "data": {
      "text/plain": [
       "(1, 3, 4, 5, 6, 7, 8)"
      ]
     },
     "execution_count": 23,
     "metadata": {},
     "output_type": "execute_result"
    }
   ],
   "source": [
    "list1 = (1,3,4,5,6,7,8)\n",
    "list1"
   ]
  },
  {
   "cell_type": "code",
   "execution_count": 24,
   "id": "cbedd728",
   "metadata": {},
   "outputs": [
    {
     "name": "stdout",
     "output_type": "stream",
     "text": [
      "0 1\n",
      "1 3\n",
      "2 4\n",
      "3 5\n",
      "4 6\n",
      "5 7\n",
      "6 8\n"
     ]
    }
   ],
   "source": [
    "for index , i in enumerate(list1): #using enumerate function\n",
    "    print(index,i)"
   ]
  },
  {
   "cell_type": "code",
   "execution_count": 25,
   "id": "bc246625",
   "metadata": {},
   "outputs": [
    {
     "data": {
      "text/plain": [
       "[(1, 'a'), (2, 'b'), (3, 'c'), (4, 'd')]"
      ]
     },
     "execution_count": 25,
     "metadata": {},
     "output_type": "execute_result"
    }
   ],
   "source": [
    "pairs = [(1, 'a'), (2, 'b'), (3, 'c'), (4, 'd')] \n",
    "pairs"
   ]
  },
  {
   "cell_type": "code",
   "execution_count": 28,
   "id": "ac636223",
   "metadata": {},
   "outputs": [
    {
     "data": {
      "text/plain": [
       "(1, 2, 3, 4)"
      ]
     },
     "execution_count": 28,
     "metadata": {},
     "output_type": "execute_result"
    }
   ],
   "source": [
    "#unzip the list of tuples using zip function along with unpacking operator '*'\n",
    "a , b = zip(*pairs)\n",
    "a"
   ]
  },
  {
   "cell_type": "code",
   "execution_count": 29,
   "id": "9dfb20e5",
   "metadata": {},
   "outputs": [
    {
     "data": {
      "text/plain": [
       "('a', 'b', 'c', 'd')"
      ]
     },
     "execution_count": 29,
     "metadata": {},
     "output_type": "execute_result"
    }
   ],
   "source": [
    "b"
   ]
  },
  {
   "cell_type": "code",
   "execution_count": 31,
   "id": "c8785951",
   "metadata": {},
   "outputs": [
    {
     "data": {
      "text/plain": [
       "[(4, 'd'), (3, 'c'), (2, 'b'), (1, 'a')]"
      ]
     },
     "execution_count": 31,
     "metadata": {},
     "output_type": "execute_result"
    }
   ],
   "source": [
    "list(reversed(pairs)) #reversed function"
   ]
  },
  {
   "cell_type": "code",
   "execution_count": 32,
   "id": "f5292ee3",
   "metadata": {},
   "outputs": [
    {
     "data": {
      "text/plain": [
       "((4, 'd'), (3, 'c'), (2, 'b'), (1, 'a'))"
      ]
     },
     "execution_count": 32,
     "metadata": {},
     "output_type": "execute_result"
    }
   ],
   "source": [
    "tuple(reversed(pairs)) #reversed function returns the reversed iterator of the given sequence"
   ]
  },
  {
   "cell_type": "code",
   "execution_count": null,
   "id": "f3de2684",
   "metadata": {},
   "outputs": [],
   "source": []
  }
 ],
 "metadata": {
  "kernelspec": {
   "display_name": "Python 3 (ipykernel)",
   "language": "python",
   "name": "python3"
  },
  "language_info": {
   "codemirror_mode": {
    "name": "ipython",
    "version": 3
   },
   "file_extension": ".py",
   "mimetype": "text/x-python",
   "name": "python",
   "nbconvert_exporter": "python",
   "pygments_lexer": "ipython3",
   "version": "3.9.13"
  }
 },
 "nbformat": 4,
 "nbformat_minor": 5
}
